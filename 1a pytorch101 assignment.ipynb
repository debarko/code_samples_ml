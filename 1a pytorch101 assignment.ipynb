{
 "cells": [
  {
   "cell_type": "code",
   "execution_count": null,
   "metadata": {},
   "outputs": [],
   "source": [
    "5/2"
   ]
  },
  {
   "cell_type": "code",
   "execution_count": 2,
   "metadata": {},
   "outputs": [
    {
     "data": {
      "text/plain": [
       "2"
      ]
     },
     "execution_count": 2,
     "metadata": {},
     "output_type": "execute_result"
    }
   ],
   "source": [
    "5//2"
   ]
  },
  {
   "cell_type": "code",
   "execution_count": 3,
   "metadata": {},
   "outputs": [],
   "source": [
    "import torch"
   ]
  },
  {
   "cell_type": "code",
   "execution_count": 4,
   "metadata": {},
   "outputs": [
    {
     "name": "stdout",
     "output_type": "stream",
     "text": [
      "1.6.0\n"
     ]
    }
   ],
   "source": [
    "print(torch.__version__)"
   ]
  },
  {
   "cell_type": "code",
   "execution_count": 5,
   "metadata": {},
   "outputs": [
    {
     "data": {
      "text/plain": [
       "tensor([1, 2, 3], device='cuda:0')"
      ]
     },
     "execution_count": 5,
     "metadata": {},
     "output_type": "execute_result"
    }
   ],
   "source": [
    "a = torch.tensor([1,2,3])\n",
    "a.cuda()"
   ]
  },
  {
   "cell_type": "code",
   "execution_count": 6,
   "metadata": {},
   "outputs": [
    {
     "name": "stdout",
     "output_type": "stream",
     "text": [
      "Here is a : \n",
      "tensor([1, 2, 3])\n",
      "<class 'torch.Tensor'>\n",
      "1\n",
      "torch.Size([3])\n"
     ]
    }
   ],
   "source": [
    "print(\"Here is a : \")\n",
    "print(a)\n",
    "print(type(a))\n",
    "print(a.dim())\n",
    "print(a.shape)"
   ]
  },
  {
   "cell_type": "code",
   "execution_count": 7,
   "metadata": {},
   "outputs": [
    {
     "name": "stdout",
     "output_type": "stream",
     "text": [
      "tensor(1)\n"
     ]
    }
   ],
   "source": [
    "print(a[0])"
   ]
  },
  {
   "cell_type": "code",
   "execution_count": 8,
   "metadata": {},
   "outputs": [
    {
     "data": {
      "text/plain": [
       "torch.Tensor"
      ]
     },
     "execution_count": 8,
     "metadata": {},
     "output_type": "execute_result"
    }
   ],
   "source": [
    "type(a[0])"
   ]
  },
  {
   "cell_type": "code",
   "execution_count": 9,
   "metadata": {},
   "outputs": [],
   "source": [
    "b=[[12,3,324],[1231,6787,345]]\n",
    "b = torch.tensor(b)"
   ]
  },
  {
   "cell_type": "code",
   "execution_count": 10,
   "metadata": {},
   "outputs": [
    {
     "name": "stdout",
     "output_type": "stream",
     "text": [
      "2\n",
      "torch.Size([2, 3])\n"
     ]
    }
   ],
   "source": [
    "print(b.dim())\n",
    "print(b.shape)"
   ]
  },
  {
   "cell_type": "code",
   "execution_count": 11,
   "metadata": {},
   "outputs": [
    {
     "name": "stdout",
     "output_type": "stream",
     "text": [
      "1\n"
     ]
    }
   ],
   "source": [
    "print(a[0].item())"
   ]
  },
  {
   "cell_type": "code",
   "execution_count": 12,
   "metadata": {},
   "outputs": [
    {
     "name": "stdout",
     "output_type": "stream",
     "text": [
      "<class 'int'>\n"
     ]
    }
   ],
   "source": [
    "print(type(a[0].item()))"
   ]
  },
  {
   "cell_type": "code",
   "execution_count": 13,
   "metadata": {},
   "outputs": [
    {
     "name": "stdout",
     "output_type": "stream",
     "text": [
      "tensor([   1, 1000,    3])\n"
     ]
    }
   ],
   "source": [
    "a[1]=1000\n",
    "print(a)"
   ]
  },
  {
   "cell_type": "code",
   "execution_count": 14,
   "metadata": {},
   "outputs": [
    {
     "name": "stdout",
     "output_type": "stream",
     "text": [
      "c is a tensor:  True\n",
      "Correct shape:  True\n",
      "All zeros:  True\n",
      "\n",
      "After mutating:\n",
      "Correct shape:  True\n",
      "c[0, 1] correct:  tensor(True)\n",
      "c[1, 0] correct:  tensor(True)\n",
      "Rest of c is still zero:  True\n"
     ]
    }
   ],
   "source": [
    "c = None\n",
    "################################################################################\n",
    "# TODO: Construct a tensor c filled with all zeros, initializing from nested   #\n",
    "# Python lists.                                                                #\n",
    "################################################################################\n",
    "# Replace \"pass\" statement with your code\n",
    "c = torch.tensor([[0,0],[0,0],[0,0]])\n",
    "################################################################################\n",
    "#                              END OF YOUR CODE                                #\n",
    "################################################################################\n",
    "print('c is a tensor: ', torch.is_tensor(c))\n",
    "print('Correct shape: ', c.shape == (3, 2))\n",
    "print('All zeros: ', (c == 0).all().item() == 1)\n",
    "\n",
    "################################################################################\n",
    "# TODO: Set element (0, 1) of c to 10, and element (1, 0) of c to 100.         #\n",
    "################################################################################\n",
    "# Replace \"pass\" statement with your code\n",
    "c[0,1]=10\n",
    "c[1,0]=100\n",
    "################################################################################\n",
    "#                              END OF YOUR CODE                                #\n",
    "################################################################################\n",
    "print('\\nAfter mutating:')\n",
    "print('Correct shape: ', c.shape == (3, 2))\n",
    "print('c[0, 1] correct: ', c[0, 1] == 10)\n",
    "print('c[1, 0] correct: ', c[1, 0] == 100)\n",
    "print('Rest of c is still zero: ', (c == 0).sum().item() == 4)"
   ]
  },
  {
   "cell_type": "code",
   "execution_count": 15,
   "metadata": {},
   "outputs": [
    {
     "name": "stdout",
     "output_type": "stream",
     "text": [
      "tensor([[0., 0., 0.],\n",
      "        [0., 0., 0.]])\n",
      "tensor([[0., 0.],\n",
      "        [0., 0.],\n",
      "        [0., 0.]])\n"
     ]
    }
   ],
   "source": [
    "a=torch.zeros(2,3)\n",
    "print(a)\n",
    "a=torch.zeros(3,2)\n",
    "print(a)"
   ]
  },
  {
   "cell_type": "code",
   "execution_count": 16,
   "metadata": {},
   "outputs": [],
   "source": [
    "b=torch.ones(1,2)"
   ]
  },
  {
   "cell_type": "code",
   "execution_count": 17,
   "metadata": {},
   "outputs": [
    {
     "data": {
      "text/plain": [
       "tensor([[1., 1.]])"
      ]
     },
     "execution_count": 17,
     "metadata": {},
     "output_type": "execute_result"
    }
   ],
   "source": [
    "b"
   ]
  },
  {
   "cell_type": "code",
   "execution_count": 18,
   "metadata": {},
   "outputs": [],
   "source": [
    "b=torch.ones(55,5)"
   ]
  },
  {
   "cell_type": "code",
   "execution_count": 19,
   "metadata": {},
   "outputs": [
    {
     "data": {
      "text/plain": [
       "tensor([[1., 1., 1., 1., 1.],\n",
       "        [1., 1., 1., 1., 1.],\n",
       "        [1., 1., 1., 1., 1.],\n",
       "        [1., 1., 1., 1., 1.],\n",
       "        [1., 1., 1., 1., 1.],\n",
       "        [1., 1., 1., 1., 1.],\n",
       "        [1., 1., 1., 1., 1.],\n",
       "        [1., 1., 1., 1., 1.],\n",
       "        [1., 1., 1., 1., 1.],\n",
       "        [1., 1., 1., 1., 1.],\n",
       "        [1., 1., 1., 1., 1.],\n",
       "        [1., 1., 1., 1., 1.],\n",
       "        [1., 1., 1., 1., 1.],\n",
       "        [1., 1., 1., 1., 1.],\n",
       "        [1., 1., 1., 1., 1.],\n",
       "        [1., 1., 1., 1., 1.],\n",
       "        [1., 1., 1., 1., 1.],\n",
       "        [1., 1., 1., 1., 1.],\n",
       "        [1., 1., 1., 1., 1.],\n",
       "        [1., 1., 1., 1., 1.],\n",
       "        [1., 1., 1., 1., 1.],\n",
       "        [1., 1., 1., 1., 1.],\n",
       "        [1., 1., 1., 1., 1.],\n",
       "        [1., 1., 1., 1., 1.],\n",
       "        [1., 1., 1., 1., 1.],\n",
       "        [1., 1., 1., 1., 1.],\n",
       "        [1., 1., 1., 1., 1.],\n",
       "        [1., 1., 1., 1., 1.],\n",
       "        [1., 1., 1., 1., 1.],\n",
       "        [1., 1., 1., 1., 1.],\n",
       "        [1., 1., 1., 1., 1.],\n",
       "        [1., 1., 1., 1., 1.],\n",
       "        [1., 1., 1., 1., 1.],\n",
       "        [1., 1., 1., 1., 1.],\n",
       "        [1., 1., 1., 1., 1.],\n",
       "        [1., 1., 1., 1., 1.],\n",
       "        [1., 1., 1., 1., 1.],\n",
       "        [1., 1., 1., 1., 1.],\n",
       "        [1., 1., 1., 1., 1.],\n",
       "        [1., 1., 1., 1., 1.],\n",
       "        [1., 1., 1., 1., 1.],\n",
       "        [1., 1., 1., 1., 1.],\n",
       "        [1., 1., 1., 1., 1.],\n",
       "        [1., 1., 1., 1., 1.],\n",
       "        [1., 1., 1., 1., 1.],\n",
       "        [1., 1., 1., 1., 1.],\n",
       "        [1., 1., 1., 1., 1.],\n",
       "        [1., 1., 1., 1., 1.],\n",
       "        [1., 1., 1., 1., 1.],\n",
       "        [1., 1., 1., 1., 1.],\n",
       "        [1., 1., 1., 1., 1.],\n",
       "        [1., 1., 1., 1., 1.],\n",
       "        [1., 1., 1., 1., 1.],\n",
       "        [1., 1., 1., 1., 1.],\n",
       "        [1., 1., 1., 1., 1.]])"
      ]
     },
     "execution_count": 19,
     "metadata": {},
     "output_type": "execute_result"
    }
   ],
   "source": [
    "b"
   ]
  },
  {
   "cell_type": "code",
   "execution_count": 20,
   "metadata": {},
   "outputs": [],
   "source": [
    "c=torch.eye(10,9)"
   ]
  },
  {
   "cell_type": "code",
   "execution_count": 21,
   "metadata": {},
   "outputs": [
    {
     "data": {
      "text/plain": [
       "tensor([[1., 0., 0., 0., 0., 0., 0., 0., 0.],\n",
       "        [0., 1., 0., 0., 0., 0., 0., 0., 0.],\n",
       "        [0., 0., 1., 0., 0., 0., 0., 0., 0.],\n",
       "        [0., 0., 0., 1., 0., 0., 0., 0., 0.],\n",
       "        [0., 0., 0., 0., 1., 0., 0., 0., 0.],\n",
       "        [0., 0., 0., 0., 0., 1., 0., 0., 0.],\n",
       "        [0., 0., 0., 0., 0., 0., 1., 0., 0.],\n",
       "        [0., 0., 0., 0., 0., 0., 0., 1., 0.],\n",
       "        [0., 0., 0., 0., 0., 0., 0., 0., 1.],\n",
       "        [0., 0., 0., 0., 0., 0., 0., 0., 0.]])"
      ]
     },
     "execution_count": 21,
     "metadata": {},
     "output_type": "execute_result"
    }
   ],
   "source": [
    "c"
   ]
  },
  {
   "cell_type": "code",
   "execution_count": 22,
   "metadata": {},
   "outputs": [],
   "source": [
    "d=torch.rand(4,5)"
   ]
  },
  {
   "cell_type": "code",
   "execution_count": 23,
   "metadata": {},
   "outputs": [
    {
     "name": "stdout",
     "output_type": "stream",
     "text": [
      "tensor([[120.2080, 110.3737, 175.3468,  31.8163, 167.2081],\n",
      "        [145.1665,  58.3645, 172.5987,  53.1316, 153.4691],\n",
      "        [ 23.4777,  46.5849,  23.5391, 135.9355,  35.7038],\n",
      "        [179.4953, 110.1740, 172.5626, 139.7442,   7.8510]])\n"
     ]
    }
   ],
   "source": [
    "print(d*200)"
   ]
  },
  {
   "cell_type": "code",
   "execution_count": 24,
   "metadata": {},
   "outputs": [
    {
     "name": "stdout",
     "output_type": "stream",
     "text": [
      "e is a tensor: True\n",
      "e has correct shape:  True\n",
      "e is filled with sevens:  True\n"
     ]
    }
   ],
   "source": [
    "e = None\n",
    "################################################################################\n",
    "# TODO: Create a tensor of shape (2, 3, 4) filled entirely with 7, stored in e #\n",
    "################################################################################\n",
    "# Replace \"pass\" statement with your code\n",
    "e=torch.full((2,3,4),int(7), out=None, dtype=int)\n",
    "################################################################################\n",
    "#                              END OF YOUR CODE                                #\n",
    "################################################################################\n",
    "print('e is a tensor:', torch.is_tensor(e))\n",
    "\n",
    "print('e has correct shape: ', e.shape == (2, 3, 4))\n",
    "print('e is filled with sevens: ', (e == 7).all().item() == 1)"
   ]
  },
  {
   "cell_type": "code",
   "execution_count": 25,
   "metadata": {},
   "outputs": [
    {
     "name": "stdout",
     "output_type": "stream",
     "text": [
      "dtype when torch chooses for us:\n",
      "List of integers: torch.int64\n",
      "List of floats: torch.float32\n",
      "Mixed list: torch.float32\n",
      "\n",
      "dtype when we force a datatype:\n",
      "32-bit float:  torch.float32\n",
      "32-bit integer:  torch.int32\n",
      "64-bit integer:  torch.int64\n",
      "\n",
      "torch.ones with different dtypes\n",
      "default dtype: torch.float32\n",
      "16-bit integer: torch.int16\n",
      "8-bit unsigned integer: torch.uint8\n"
     ]
    }
   ],
   "source": [
    "# Let torch choose the datatype\n",
    "x0 = torch.tensor([1, 2])   # List of integers\n",
    "x1 = torch.tensor([1., 2.]) # List of floats\n",
    "x2 = torch.tensor([1., 2])  # Mixed list\n",
    "print('dtype when torch chooses for us:')\n",
    "print('List of integers:', x0.dtype)\n",
    "print('List of floats:', x1.dtype)\n",
    "print('Mixed list:', x2.dtype)\n",
    "\n",
    "# Force a particular datatype\n",
    "y0 = torch.tensor([1, 2], dtype=torch.float32)  # 32-bit float\n",
    "y1 = torch.tensor([1, 2], dtype=torch.int32)    # 32-bit (signed) integer\n",
    "y2 = torch.tensor([1, 2], dtype=torch.int64)    # 64-bit (signed) integer\n",
    "print('\\ndtype when we force a datatype:')\n",
    "print('32-bit float: ', y0.dtype)\n",
    "print('32-bit integer: ', y1.dtype)\n",
    "print('64-bit integer: ', y2.dtype)\n",
    "\n",
    "# Other creation ops also take a dtype argument\n",
    "z0 = torch.ones(1, 2)  # Let torch choose for us\n",
    "z1 = torch.ones(1, 2, dtype=torch.int16) # 16-bit (signed) integer\n",
    "z2 = torch.ones(1, 2, dtype=torch.uint8) # 8-bit (unsigned) integer\n",
    "print('\\ntorch.ones with different dtypes')\n",
    "print('default dtype:', z0.dtype)\n",
    "print('16-bit integer:', z1.dtype)\n",
    "print('8-bit unsigned integer:', z2.dtype)"
   ]
  },
  {
   "cell_type": "code",
   "execution_count": 26,
   "metadata": {},
   "outputs": [
    {
     "name": "stdout",
     "output_type": "stream",
     "text": [
      "x0: torch.int64\n",
      "x1: torch.float32\n",
      "x2: torch.int64\n",
      "x3: torch.float32\n",
      "x4: torch.float64\n"
     ]
    }
   ],
   "source": [
    "x0 = torch.eye(3, dtype=torch.int64)\n",
    "x1 = x0.float()  # Cast to 32-bit float\n",
    "x2 = x0.long() # Cast to 64-bit float\n",
    "x3 = x0.to(torch.float32) # Alternate way to cast to 32-bit float\n",
    "x4 = x0.to(torch.float64) # Alternate way to cast to 64-bit float\n",
    "print('x0:', x0.dtype)\n",
    "print('x1:', x1.dtype)\n",
    "print('x2:', x2.dtype)\n",
    "print('x3:', x3.dtype)\n",
    "print('x4:', x4.dtype)"
   ]
  },
  {
   "cell_type": "code",
   "execution_count": 27,
   "metadata": {},
   "outputs": [
    {
     "name": "stdout",
     "output_type": "stream",
     "text": [
      "tensor([[1, 0, 0],\n",
      "        [0, 1, 0],\n",
      "        [0, 0, 1]])\n",
      "tensor([[1., 0., 0.],\n",
      "        [0., 1., 0.],\n",
      "        [0., 0., 1.]])\n",
      "tensor([[1, 0, 0],\n",
      "        [0, 1, 0],\n",
      "        [0, 0, 1]])\n",
      "tensor([[1., 0., 0.],\n",
      "        [0., 1., 0.],\n",
      "        [0., 0., 1.]])\n",
      "tensor([[1., 0., 0.],\n",
      "        [0., 1., 0.],\n",
      "        [0., 0., 1.]], dtype=torch.float64)\n"
     ]
    }
   ],
   "source": [
    "print(x0)\n",
    "print(x1)\n",
    "print(x2)\n",
    "print(x3)\n",
    "print(x4)"
   ]
  },
  {
   "cell_type": "code",
   "execution_count": 28,
   "metadata": {},
   "outputs": [
    {
     "name": "stdout",
     "output_type": "stream",
     "text": [
      "x is a tensor:  True\n",
      "x has correct shape:  True\n",
      "x has correct dtype:  True\n",
      "x has correct valus:  True\n",
      "tensor([10., 12., 14., 16., 18., 20.], dtype=torch.float64)\n"
     ]
    }
   ],
   "source": [
    "x = None\n",
    "##############################################################################\n",
    "# TODO: Make x contain a six-element vector of 64-bit floating-bit values,   #\n",
    "# evenly spaced between 10 and 20.                                           #\n",
    "##############################################################################\n",
    "# Replace \"pass\" statement with your code\n",
    "x=torch.linspace(10,20,6,dtype=torch.float64)\n",
    "##############################################################################\n",
    "#                             END OF YOUR CODE                               #\n",
    "##############################################################################\n",
    "print('x is a tensor: ', torch.is_tensor(x))\n",
    "print('x has correct shape: ', x.shape == (6,))\n",
    "print('x has correct dtype: ', x.dtype == torch.float64)\n",
    "y = [10, 12, 14, 16, 18, 20]\n",
    "correct_vals = all(a.item() == b for a, b in zip(x, y))\n",
    "print('x has correct valus: ', correct_vals)\n",
    "print(x)"
   ]
  },
  {
   "cell_type": "code",
   "execution_count": 29,
   "metadata": {},
   "outputs": [
    {
     "name": "stdout",
     "output_type": "stream",
     "text": [
      "0 tensor([ 0, 11, 22, 33, 44, 55, 66])\n",
      "1 tensor([22, 33, 44])\n",
      "2 tensor([22, 33, 44, 55, 66])\n",
      "3 tensor([ 0, 11, 22, 33, 44])\n",
      "4 tensor([ 0, 11, 22, 33, 44, 55, 66])\n",
      "5 tensor([11, 33])\n",
      "6 tensor([ 0, 11, 22, 33, 44, 55])\n",
      "7 tensor([33, 55])\n"
     ]
    }
   ],
   "source": [
    "a = torch.tensor([0, 11, 22, 33, 44, 55, 66])\n",
    "print(0, a)        # (0) Original tensor\n",
    "print(1, a[2:5])   # (1) Elements between index 2 and 5\n",
    "print(2, a[2:])    # (2) Elements after index 2\n",
    "print(3, a[:5])    # (3) Elements before index 5\n",
    "print(4, a[:])     # (4) All elements\n",
    "print(5, a[1:5:2]) # (5) Every second element between indices 1 and 5\n",
    "print(6, a[:-1])   # (6) All but the last element\n",
    "print(7, a[-4::2]) # (7) Every second element, starting from the fourth-last"
   ]
  },
  {
   "cell_type": "code",
   "execution_count": 30,
   "metadata": {},
   "outputs": [
    {
     "name": "stdout",
     "output_type": "stream",
     "text": [
      "Original tensor:\n",
      "tensor([[ 1,  2,  3,  4],\n",
      "        [ 5,  6,  7,  8],\n",
      "        [ 9, 10, 11, 12]])\n",
      "shape:  torch.Size([3, 4])\n",
      "\n",
      "Single row:\n",
      "tensor([5, 6, 7, 8])\n",
      "tensor([5, 6, 7, 8])\n",
      "shape:  torch.Size([4])\n",
      "\n",
      "Single column:\n",
      "tensor([ 2,  6, 10])\n",
      "shape:  torch.Size([3])\n",
      "\n",
      "First two rows, last two columns:\n",
      "tensor([[2, 3, 4],\n",
      "        [6, 7, 8]])\n",
      "shape:  torch.Size([2, 3])\n",
      "\n",
      "Every other row, middle columns:\n",
      "tensor([[ 2,  3],\n",
      "        [10, 11]])\n",
      "shape:  torch.Size([2, 2])\n"
     ]
    }
   ],
   "source": [
    "# Create the following rank 2 tensor with shape (3, 4)\n",
    "# [[ 1  2  3  4]\n",
    "#  [ 5  6  7  8]\n",
    "#  [ 9 10 11 12]]\n",
    "a = torch.tensor([[1,2,3,4], [5,6,7,8], [9,10,11,12]])\n",
    "print('Original tensor:')\n",
    "print(a)\n",
    "print('shape: ', a.shape)\n",
    "\n",
    "# Get row 1, and all columns. \n",
    "print('\\nSingle row:')\n",
    "print(a[1, :])\n",
    "print(a[1])  # Gives the same result; we can omit : for trailing dimensions\n",
    "print('shape: ', a[1].shape)\n",
    "\n",
    "print('\\nSingle column:')\n",
    "print(a[:, 1])\n",
    "print('shape: ', a[:, 1].shape)\n",
    "\n",
    "# Get the first two rows and the last three columns\n",
    "print('\\nFirst two rows, last two columns:')\n",
    "print(a[:2, -3:])\n",
    "print('shape: ', a[:2, -3:].shape)\n",
    "\n",
    "# Get every other row, and columns at index 1 and 2\n",
    "print('\\nEvery other row, middle columns:')\n",
    "print(a[::2, 1:3])\n",
    "print('shape: ', a[::2, 1:3].shape)"
   ]
  },
  {
   "cell_type": "code",
   "execution_count": 31,
   "metadata": {},
   "outputs": [],
   "source": [
    "a = torch.tensor([[1,2,3,4], [5,6,7,8], [9,10,11,12]])"
   ]
  },
  {
   "cell_type": "code",
   "execution_count": 32,
   "metadata": {},
   "outputs": [
    {
     "name": "stdout",
     "output_type": "stream",
     "text": [
      "Original tensor\n",
      "tensor([[ 1,  2,  3,  4],\n",
      "        [ 5,  6,  7,  8],\n",
      "        [ 9, 10, 11, 12]])\n",
      "\n",
      "Two ways of accessing a single row:\n",
      "tensor([5, 6, 7, 8]) torch.Size([4])\n",
      "tensor([[5, 6, 7, 8]]) torch.Size([1, 4])\n",
      "\n",
      "Two ways of accessing a single column:\n",
      "tensor([ 2,  6, 10]) torch.Size([3])\n",
      "tensor([[ 2],\n",
      "        [ 6],\n",
      "        [10]]) torch.Size([3, 1])\n"
     ]
    }
   ],
   "source": [
    "print('Original tensor')\n",
    "print(a)\n",
    "\n",
    "row_r1 = a[1, :]    # Rank 1 view of the second row of a  \n",
    "row_r2 = a[1:2, :]  # Rank 2 view of the second row of a\n",
    "print('\\nTwo ways of accessing a single row:')\n",
    "print(row_r1, row_r1.shape)\n",
    "print(row_r2, row_r2.shape)\n",
    "\n",
    "# We can make the same distinction when accessing columns::\n",
    "col_r1 = a[:, 1]\n",
    "col_r2 = a[:, 1:2]\n",
    "print('\\nTwo ways of accessing a single column:')\n",
    "print(col_r1, col_r1.shape)\n",
    "print(col_r2, col_r2.shape)"
   ]
  },
  {
   "cell_type": "code",
   "execution_count": 33,
   "metadata": {},
   "outputs": [
    {
     "data": {
      "text/plain": [
       "tensor([5, 6, 7, 8])"
      ]
     },
     "execution_count": 33,
     "metadata": {},
     "output_type": "execute_result"
    }
   ],
   "source": [
    "row_r1"
   ]
  },
  {
   "cell_type": "code",
   "execution_count": 34,
   "metadata": {},
   "outputs": [
    {
     "data": {
      "text/plain": [
       "tensor([[5, 6, 7, 8]])"
      ]
     },
     "execution_count": 34,
     "metadata": {},
     "output_type": "execute_result"
    }
   ],
   "source": [
    "row_r2"
   ]
  },
  {
   "cell_type": "code",
   "execution_count": 35,
   "metadata": {},
   "outputs": [
    {
     "name": "stdout",
     "output_type": "stream",
     "text": [
      "Before mutating:\n",
      "tensor([[1, 2, 3, 4],\n",
      "        [5, 6, 7, 8]])\n",
      "tensor([2, 3, 4])\n",
      "tensor([2, 3, 4])\n",
      "\n",
      "After mutating:\n",
      "tensor([[ 1, 20, 30,  4],\n",
      "        [ 5,  6,  7,  8]])\n",
      "tensor([20, 30,  4])\n",
      "tensor([ 2,  3, 40])\n",
      "False\n"
     ]
    }
   ],
   "source": [
    "# Create a tensor, a slice, and a clone of a slice\n",
    "a = torch.tensor([[1, 2, 3, 4], [5, 6, 7, 8]])\n",
    "b = a[0, 1:]\n",
    "c = a[0, 1:].clone()\n",
    "print('Before mutating:')\n",
    "print(a)\n",
    "print(b)\n",
    "print(c)\n",
    "\n",
    "a[0, 1] = 20  # a[0, 1] and b[0] point to the same element\n",
    "b[1] = 30     # b[1] and a[0, 2] point to the same element\n",
    "c[2] = 40     # c is a clone, so it has its own data\n",
    "print('\\nAfter mutating:')\n",
    "print(a)\n",
    "print(b)\n",
    "print(c)\n",
    "\n",
    "print(a.storage().data_ptr() == c.storage().data_ptr())"
   ]
  },
  {
   "cell_type": "code",
   "execution_count": 36,
   "metadata": {},
   "outputs": [],
   "source": [
    "# We will use this helper function to check your results\n",
    "def check(orig, actual, expected):\n",
    "  expected = torch.tensor(expected)\n",
    "  same_elements = (actual == expected).all().item() == 1\n",
    "  same_storage = (orig.storage().data_ptr() == actual.storage().data_ptr())\n",
    "  return same_elements and same_storage"
   ]
  },
  {
   "cell_type": "code",
   "execution_count": 70,
   "metadata": {},
   "outputs": [
    {
     "name": "stdout",
     "output_type": "stream",
     "text": [
      "b correct: True\n",
      "c correct: True\n",
      "d correct: True\n",
      "e correct: True\n"
     ]
    }
   ],
   "source": [
    "# Create the following rank 2 tensor of shape (3, 5)\n",
    "# [[ 1  2  3  4  5]\n",
    "#  [ 6  7  8  9 10]\n",
    "#  [11 12 13 14 15]]\n",
    "a = torch.tensor([[1, 2, 3, 4, 5], [6, 7, 8, 8, 10], [11, 12, 13, 14, 15]])\n",
    "\n",
    "b, c, d, e = None, None, None, None\n",
    "##############################################################################\n",
    "# TODO: Extract the last row of a, and store it in b; it should have rank 1. #\n",
    "##############################################################################\n",
    "# Replace \"pass\" statement with your code\n",
    "b=a[2,:]\n",
    "##############################################################################\n",
    "#                             END OF YOUR CODE                               #\n",
    "##############################################################################\n",
    "print('b correct:', check(a, b, [11, 12, 13, 14, 15]))\n",
    "\n",
    "##############################################################################\n",
    "# TODO: Extract the third col of a, and store it in c; it should have rank 2 #\n",
    "##############################################################################\n",
    "# Replace \"pass\" statement with your code\n",
    "c=a[:,2:3]\n",
    "##############################################################################\n",
    "#                             END OF YOUR CODE                               #\n",
    "##############################################################################\n",
    "print('c correct:', check(a, c, [[3], [8], [13]]))\n",
    "\n",
    "##############################################################################\n",
    "# TODO: Use slicing to extract the first two rows and first three columns    #\n",
    "# from a; store the result into d.                                           #\n",
    "##############################################################################\n",
    "# Replace \"pass\" statement with your code\n",
    "d=a[0:2,0:3]\n",
    "##############################################################################\n",
    "#                             END OF YOUR CODE                               #\n",
    "##############################################################################\n",
    "print('d correct:', check(a, d, [[1, 2, 3], [6, 7, 8]]))\n",
    "\n",
    "\n",
    "##############################################################################\n",
    "# TODO: Use slicing to extract a subtensor of a consisting of rows 0 and 2   #\n",
    "# and columns 1 and 4.                                                       #\n",
    "##############################################################################\n",
    "# Replace \"pass\" statement with your code\n",
    "e=a[0::2,1:5:3]\n",
    "##############################################################################\n",
    "#                             END OF YOUR CODE                               #\n",
    "##############################################################################\n",
    "print('e correct:', check(a, e, [[2, 5], [12, 15]]))"
   ]
  },
  {
   "cell_type": "code",
   "execution_count": 92,
   "metadata": {},
   "outputs": [
    {
     "name": "stdout",
     "output_type": "stream",
     "text": [
      "tensor([[1, 0, 2, 2, 2, 2],\n",
      "        [0, 1, 2, 2, 2, 2],\n",
      "        [3, 4, 3, 4, 5, 5],\n",
      "        [3, 4, 3, 4, 5, 5]])\n",
      "correct: True\n"
     ]
    }
   ],
   "source": [
    "x = torch.zeros(4, 6, dtype=torch.int64)\n",
    "##############################################################################\n",
    "# TODO: Use slicing to modify the tensor x so it has the following contents: #\n",
    "#     [[1, 0, 2, 2, 2, 2],                                                   #\n",
    "#      [0, 1, 2, 2, 2, 2],                                                   #\n",
    "#      [3, 4, 3, 4, 5, 5],                                                   #\n",
    "#      [3, 4, 3, 4, 5, 5]]                                                   #\n",
    "# This can be achieved using five slicing assignment operations.             #\n",
    "##############################################################################\n",
    "# Replace \"pass\" statement with your code\n",
    "x[:2,2:]=torch.full((2,4),2,dtype=torch.int)\n",
    "x[2:,4:]=torch.full((2,2),5,dtype=torch.int)\n",
    "x[:2,:2]=torch.eye(2,2)\n",
    "x[2:,:4]=torch.tensor([[3,4,3,4],[3,4,3,4]])\n",
    "##############################################################################\n",
    "#                             END OF YOUR CODE                               #\n",
    "##############################################################################\n",
    "\n",
    "expected = [\n",
    "    [1, 0, 2, 2, 2, 2],\n",
    "    [0, 1, 2, 2, 2, 2],\n",
    "    [3, 4, 3, 4, 5, 5],\n",
    "    [3, 4, 3, 4, 5, 5],\n",
    "]\n",
    "print('correct:', x.tolist() == expected)"
   ]
  },
  {
   "cell_type": "code",
   "execution_count": 93,
   "metadata": {},
   "outputs": [
    {
     "name": "stdout",
     "output_type": "stream",
     "text": [
      "Original tensor:\n",
      "tensor([[ 1,  2,  3,  4],\n",
      "        [ 5,  6,  7,  8],\n",
      "        [ 9, 10, 11, 12]])\n"
     ]
    }
   ],
   "source": [
    "a = torch.tensor([[1, 2, 3, 4], [5, 6, 7, 8], [9, 10, 11, 12]])\n",
    "print('Original tensor:')\n",
    "print(a)"
   ]
  },
  {
   "cell_type": "code",
   "execution_count": 94,
   "metadata": {},
   "outputs": [
    {
     "name": "stdout",
     "output_type": "stream",
     "text": [
      "\n",
      "Reordered rows:\n",
      "tensor([[ 1,  2,  3,  4],\n",
      "        [ 1,  2,  3,  4],\n",
      "        [ 9, 10, 11, 12],\n",
      "        [ 5,  6,  7,  8],\n",
      "        [ 5,  6,  7,  8]])\n"
     ]
    }
   ],
   "source": [
    "idx = [0, 0, 2, 1, 1]  # index arrays can be Python lists of integers\n",
    "print('\\nReordered rows:')\n",
    "print(a[idx])"
   ]
  },
  {
   "cell_type": "code",
   "execution_count": 95,
   "metadata": {},
   "outputs": [
    {
     "name": "stdout",
     "output_type": "stream",
     "text": [
      "\n",
      "Reordered columns:\n",
      "tensor([[ 4,  3,  2,  1],\n",
      "        [ 8,  7,  6,  5],\n",
      "        [12, 11, 10,  9]])\n"
     ]
    }
   ],
   "source": [
    "idx = torch.tensor([3, 2, 1, 0])  # Index arrays can be int64 torch tensors\n",
    "print('\\nReordered columns:')\n",
    "print(a[:, idx])"
   ]
  },
  {
   "cell_type": "code",
   "execution_count": 96,
   "metadata": {},
   "outputs": [
    {
     "name": "stdout",
     "output_type": "stream",
     "text": [
      "Original tensor:\n",
      "tensor([[1, 2, 3],\n",
      "        [4, 5, 6],\n",
      "        [7, 8, 9]])\n",
      "\n",
      "Get the diagonal:\n",
      "tensor([1, 5, 9])\n",
      "\n",
      "After setting the diagonal:\n",
      "tensor([[11,  2,  3],\n",
      "        [ 4, 22,  6],\n",
      "        [ 7,  8, 33]])\n"
     ]
    }
   ],
   "source": [
    "a = torch.tensor([[1, 2, 3], [4, 5, 6], [7, 8, 9]])\n",
    "print('Original tensor:')\n",
    "print(a)\n",
    "\n",
    "idx = [0, 1, 2]\n",
    "print('\\nGet the diagonal:')\n",
    "print(a[idx, idx])\n",
    "\n",
    "# Modify the diagonal\n",
    "a[idx, idx] = torch.tensor([11, 22, 33])\n",
    "print('\\nAfter setting the diagonal:')\n",
    "print(a)"
   ]
  },
  {
   "cell_type": "code",
   "execution_count": 97,
   "metadata": {},
   "outputs": [
    {
     "name": "stdout",
     "output_type": "stream",
     "text": [
      "Original tensor:\n",
      "tensor([[ 1,  2,  3],\n",
      "        [ 4,  5,  6],\n",
      "        [ 7,  8,  9],\n",
      "        [10, 11, 12]])\n",
      "\n",
      "Select one element from each row:\n",
      "tensor([ 2,  6,  8, 10])\n",
      "\n",
      "After modifying one element from each row:\n",
      "tensor([[ 1,  0,  3],\n",
      "        [ 4,  5,  0],\n",
      "        [ 7,  0,  9],\n",
      "        [ 0, 11, 12]])\n"
     ]
    }
   ],
   "source": [
    "# Create a new tensor from which we will select elements\n",
    "a = torch.tensor([[1, 2, 3], [4, 5, 6], [7, 8, 9], [10, 11, 12]])\n",
    "print('Original tensor:')\n",
    "print(a)\n",
    "\n",
    "# Take on element from each row of a:\n",
    "# from row 0, take element 1;\n",
    "# from row 1, take element 2;\n",
    "# from row 2, take element 1;\n",
    "# from row 3, take element 0\n",
    "idx0 = torch.arange(a.shape[0])  # Quick way to build [0, 1, 2, 3]\n",
    "idx1 = torch.tensor([1, 2, 1, 0])\n",
    "print('\\nSelect one element from each row:')\n",
    "print(a[idx0, idx1])\n",
    "\n",
    "# Now set each of those elements to zero\n",
    "a[idx0, idx1] = 0\n",
    "print('\\nAfter modifying one element from each row:')\n",
    "print(a)"
   ]
  },
  {
   "cell_type": "code",
   "execution_count": 123,
   "metadata": {},
   "outputs": [
    {
     "name": "stdout",
     "output_type": "stream",
     "text": [
      "Here is a:\n",
      "tensor([[ 1,  2,  3],\n",
      "        [ 4,  5,  6],\n",
      "        [ 7,  8,  9],\n",
      "        [10, 11, 12]])\n",
      "\n",
      "Here is b:\n",
      "tensor([[ 1,  1,  3,  2],\n",
      "        [ 4,  4,  6,  5],\n",
      "        [ 7,  7,  9,  8],\n",
      "        [10, 10, 12, 11]])\n",
      "b correct: True\n",
      "\n",
      "Here is c:\n",
      "tensor([[10, 11, 12],\n",
      "        [ 7,  8,  9],\n",
      "        [ 4,  5,  6],\n",
      "        [ 1,  2,  3]])\n",
      "c correct: True\n",
      "\n",
      "Here is d:\n",
      "tensor([ 4,  2, 12])\n",
      "d correct: True\n"
     ]
    }
   ],
   "source": [
    "# Build a tensor of shape (4, 3):\n",
    "# [[ 1,  2,  3],\n",
    "#  [ 4,  5,  6],\n",
    "#  [ 7,  8,  9],\n",
    "#  [10, 11, 12]]\n",
    "a = torch.tensor([[1, 2, 3], [4, 5, 6], [7, 8, 9], [10, 11, 12]])\n",
    "print('Here is a:')\n",
    "print(a)\n",
    "\n",
    "b, c, d = None, None, None\n",
    "##############################################################################\n",
    "# TODO: Use integer array indexing to create a tensor of shape (4, 4) where: #\n",
    "# - The first two columns are the same as the first column of a              #\n",
    "# - The next column is the same as the third column of a                     #\n",
    "# - The last column is the same as the second column of a                    #\n",
    "# Store the resulting tensor in b.                                           #\n",
    "##############################################################################\n",
    "# Replace \"pass\" statement with your code\n",
    "b=torch.zeros(a.shape[0], a.shape[0], dtype=torch.int64)\n",
    "idx0 = [0,0,2,1]\n",
    "b=a[:,idx0]\n",
    "##############################################################################\n",
    "#                             END OF YOUR CODE                               #\n",
    "##############################################################################\n",
    "print('\\nHere is b:')\n",
    "print(b)\n",
    "expected = [[1, 1, 3, 2], [4, 4, 6, 5], [7, 7, 9, 8], [10, 10, 12, 11]]\n",
    "print('b correct:', b.tolist() == expected)\n",
    "##############################################################################\n",
    "# TODO: Use integer array indexing to create a new tensor which is the same  #\n",
    "# as a, but has its rows reversed. Store the result in c.                    #\n",
    "##############################################################################\n",
    "# Replace \"pass\" statement with your code\n",
    "idx1 = [3,2,1,0]\n",
    "c=a[idx1]\n",
    "##############################################################################\n",
    "#                             END OF YOUR CODE                               #\n",
    "##############################################################################\n",
    "print('\\nHere is c:')\n",
    "print(c)\n",
    "expected = [[10, 11, 12], [7, 8, 9], [4, 5, 6], [1, 2, 3]]\n",
    "print('c correct:', c.tolist() == expected)\n",
    "##############################################################################\n",
    "# TODO: Use integer array indexing to create a new tensor by selecting one   #\n",
    "# element from each column of a:                                             #\n",
    "# - From the first column, take the second element.                          #\n",
    "# - From the second column, take the first element.                          #\n",
    "# - From the third column, take the fourth element.                          #\n",
    "# Store the result in d.                                                     #\n",
    "##############################################################################\n",
    "# Replace \"pass\" statement with your code\n",
    "idx2 = torch.arange(a.shape[1])\n",
    "idx3 = torch.tensor([1,0,3])\n",
    "d=a[idx3,idx2]\n",
    "##############################################################################\n",
    "#                             END OF YOUR CODE                               #\n",
    "##############################################################################\n",
    "print('\\nHere is d:')\n",
    "print(d)\n",
    "expected = [4, 2, 12]\n",
    "print('d correct:', d.tolist() == expected)"
   ]
  },
  {
   "cell_type": "code",
   "execution_count": 133,
   "metadata": {},
   "outputs": [
    {
     "name": "stdout",
     "output_type": "stream",
     "text": [
      "Original tensor:\n",
      "tensor([[1, 2],\n",
      "        [3, 4],\n",
      "        [5, 6]])\n",
      "\n",
      "Mask tensor:\n",
      "tensor([[False, False],\n",
      "        [False,  True],\n",
      "        [ True,  True]])\n",
      "\n",
      "Selecting elements with the mask:\n",
      "tensor([4, 5, 6])\n",
      "\n",
      "After modifying with a mask:\n",
      "tensor([[0, 0],\n",
      "        [0, 4],\n",
      "        [5, 6]])\n"
     ]
    }
   ],
   "source": [
    "a = torch.tensor([[1,2], [3, 4], [5, 6]])\n",
    "print('Original tensor:')\n",
    "print(a)\n",
    "# Find the elements of a that are bigger than 3. The mask has the same shape as\n",
    "# a, where each element of mask tells whether the corresponding element of a\n",
    "# is greater than three.\n",
    "mask = (a > 3)\n",
    "print('\\nMask tensor:')\n",
    "print(mask)\n",
    "# We can use the mask to construct a rank-1 tensor containing the elements of a\n",
    "# that are selected by the mask\n",
    "print('\\nSelecting elements with the mask:')\n",
    "print(a[mask])\n",
    "\n",
    "# We can also use boolean masks to modify tensors; for example this sets all\n",
    "# elements <= 3 to zero:\n",
    "a[a <= 3] = 0\n",
    "print('\\nAfter modifying with a mask:')\n",
    "print(a)"
   ]
  },
  {
   "cell_type": "code",
   "execution_count": 150,
   "metadata": {},
   "outputs": [
    {
     "name": "stdout",
     "output_type": "stream",
     "text": [
      "num_negative seems to be correct!\n"
     ]
    }
   ],
   "source": [
    "def num_negative(x):\n",
    "  \"\"\"\n",
    "  Return the number of negative values in the tensor x\n",
    " \n",
    "  Inputs:\n",
    "  - x: A tensor of any shape\n",
    " \n",
    "  Returns:\n",
    "  - num_neg: Number of negative values in x\n",
    "  \"\"\"\n",
    "  num_neg = 0\n",
    "  ##############################################################################\n",
    "  # TODO: Use boolean masks to count the number of negative elements in x.     #\n",
    "  ##############################################################################\n",
    "  # Replace \"pass\" statement with your code\n",
    "  mask = x < 0\n",
    "  num_neg=list(x[mask].shape)[0]\n",
    "  ##############################################################################\n",
    "  #                             END OF YOUR CODE                               #\n",
    "  ##############################################################################\n",
    "  return num_neg\n",
    "\n",
    "# Make a few test cases\n",
    "torch.manual_seed(598)\n",
    "x0 = torch.tensor([[-1, -1, 0], [0, 1, 2], [3, 4, 5]])\n",
    "x1 = torch.tensor([0, 1, 2, 3])\n",
    "x2 = torch.randn(100, 100)\n",
    "assert num_negative(x0) == 2\n",
    "assert num_negative(x1) == 0\n",
    "assert num_negative(x2) == 4984\n",
    "print('num_negative seems to be correct!')"
   ]
  },
  {
   "cell_type": "code",
   "execution_count": 175,
   "metadata": {},
   "outputs": [],
   "source": [
    "def make_one_hot(x):\n",
    "  \"\"\"\n",
    "  Construct a tensor of one-hot-vectors from a list of Python integers.\n",
    "\n",
    "  Input:\n",
    "  - x: A list of N ints\n",
    "\n",
    "  Returns:\n",
    "  - y: A tensor of shape (N, C) where C = 1 + max(x) is one more than the max\n",
    "       value in x. The nth row of y is a one-hot-vector representation of x[n];\n",
    "       In other words, if x[n] = c then y[n, c] = 1; all other elements of y are\n",
    "       zeros.\n",
    "  \"\"\"\n",
    "  y = None\n",
    "  ##############################################################################\n",
    "  # TODO: Complete the implementation of this function.                        #\n",
    "  ##############################################################################\n",
    "  # Replace \"pass\" statement with your code\n",
    "  max_val = 1+max(x)\n",
    "  dummy= torch.zeros(len(x), max_val, dtype=torch.int64)\n",
    "  idx0 = torch.arange(len(x))\n",
    "  idx1 = torch.tensor(x)\n",
    "  dummy[idx0,idx1]=1\n",
    "  y=dummy\n",
    "  ##############################################################################\n",
    "  #                             END OF YOUR CODE                               #\n",
    "  ##############################################################################\n",
    "  return y"
   ]
  },
  {
   "cell_type": "code",
   "execution_count": 176,
   "metadata": {},
   "outputs": [
    {
     "name": "stdout",
     "output_type": "stream",
     "text": [
      "Here is y0:\n",
      "tensor([[0, 1, 0, 0, 0],\n",
      "        [0, 0, 0, 0, 1],\n",
      "        [0, 0, 0, 1, 0],\n",
      "        [0, 0, 1, 0, 0]])\n",
      "\n",
      "Here is y1:\n",
      "tensor([[0, 1, 0, 0, 0, 0, 0, 0],\n",
      "        [0, 0, 0, 1, 0, 0, 0, 0],\n",
      "        [0, 0, 0, 0, 0, 1, 0, 0],\n",
      "        [0, 0, 0, 0, 0, 0, 0, 1],\n",
      "        [0, 0, 0, 0, 0, 0, 1, 0],\n",
      "        [0, 0, 1, 0, 0, 0, 0, 0]])\n",
      "all checks pass!\n"
     ]
    }
   ],
   "source": [
    "def check_one_hot(x, y):\n",
    "  C = y.shape[1]\n",
    "  for i, n in enumerate(x):\n",
    "    if n >= C: return False\n",
    "    for j in range(C):\n",
    "      expected = 1.0 if j == n else 0.0\n",
    "      if y[i, j].item() != expected: return False\n",
    "  return True\n",
    "      \n",
    "x0 = [1, 4, 3, 2]\n",
    "y0 = make_one_hot(x0)\n",
    "print('Here is y0:')\n",
    "print(y0)\n",
    "assert check_one_hot(x0, y0), 'y0 is wrong'\n",
    "\n",
    "x1 = [1, 3, 5, 7, 6, 2]\n",
    "y1 = make_one_hot(x1)\n",
    "print('\\nHere is y1:')\n",
    "print(y1)\n",
    "assert check_one_hot(x1, y1), 'y1 is wrong'\n",
    "\n",
    "print('all checks pass!')"
   ]
  },
  {
   "cell_type": "code",
   "execution_count": 177,
   "metadata": {},
   "outputs": [
    {
     "name": "stdout",
     "output_type": "stream",
     "text": [
      "Original tensor:\n",
      "tensor([[1, 2, 3, 4],\n",
      "        [5, 6, 7, 8]])\n",
      "shape: torch.Size([2, 4])\n",
      "\n",
      "Flattened tensor:\n",
      "tensor([1, 2, 3, 4, 5, 6, 7, 8])\n",
      "shape: torch.Size([8])\n",
      "\n",
      "Row vector:\n",
      "tensor([[1, 2, 3, 4, 5, 6, 7, 8]])\n",
      "shape: torch.Size([1, 8])\n",
      "\n",
      "Column vector:\n",
      "tensor([[1],\n",
      "        [2],\n",
      "        [3],\n",
      "        [4],\n",
      "        [5],\n",
      "        [6],\n",
      "        [7],\n",
      "        [8]])\n",
      "shape: torch.Size([8, 1])\n",
      "\n",
      "Rank 3 tensor:\n",
      "tensor([[[1, 2],\n",
      "         [3, 4]],\n",
      "\n",
      "        [[5, 6],\n",
      "         [7, 8]]])\n",
      "shape: torch.Size([2, 2, 2])\n"
     ]
    }
   ],
   "source": [
    "x0 = torch.tensor([[1, 2, 3, 4], [5, 6, 7, 8]])\n",
    "print('Original tensor:')\n",
    "print(x0)\n",
    "print('shape:', x0.shape)\n",
    "\n",
    "# Flatten x0 into a rank 1 vector of shape (8,)\n",
    "x1 = x0.view(8)\n",
    "print('\\nFlattened tensor:')\n",
    "print(x1)\n",
    "print('shape:', x1.shape)\n",
    "\n",
    "# Convert x1 to a rank 2 \"row vector\" of shape (1, 8)\n",
    "x2 = x1.view(1, 8)\n",
    "print('\\nRow vector:')\n",
    "print(x2)\n",
    "print('shape:', x2.shape)\n",
    "\n",
    "# Convert x1 to a rank 2 \"column vector\" of shape (8, 1)\n",
    "x3 = x1.view(8, 1)\n",
    "print('\\nColumn vector:')\n",
    "print(x3)\n",
    "print('shape:', x3.shape)\n",
    "\n",
    "# Convert x1 to a rank 3 tensor of shape (2, 2, 2):\n",
    "x4 = x1.view(2, 2, 2)\n",
    "print('\\nRank 3 tensor:')\n",
    "print(x4)\n",
    "print('shape:', x4.shape)"
   ]
  },
  {
   "cell_type": "code",
   "execution_count": 178,
   "metadata": {},
   "outputs": [
    {
     "name": "stdout",
     "output_type": "stream",
     "text": [
      "x0:\n",
      "tensor([[1, 2, 3],\n",
      "        [4, 5, 6]])\n",
      "x0_flat:\n",
      "tensor([1, 2, 3, 4, 5, 6])\n",
      "x0_row:\n",
      "tensor([[1, 2, 3, 4, 5, 6]])\n",
      "\n",
      "x1:\n",
      "tensor([[1, 2],\n",
      "        [3, 4]])\n",
      "x1_flat:\n",
      "tensor([1, 2, 3, 4])\n",
      "x1_row:\n",
      "tensor([[1, 2, 3, 4]])\n"
     ]
    }
   ],
   "source": [
    "# We can reuse these functions for tensors of different shapes\n",
    "def flatten(x):\n",
    "  return x.view(-1)\n",
    "\n",
    "def make_row_vec(x):\n",
    "  return x.view(1, -1)\n",
    "\n",
    "x0 = torch.tensor([[1, 2, 3], [4, 5, 6]])\n",
    "x0_flat = flatten(x0)\n",
    "x0_row = make_row_vec(x0)\n",
    "print('x0:')\n",
    "print(x0)\n",
    "print('x0_flat:')\n",
    "print(x0_flat)\n",
    "print('x0_row:')\n",
    "print(x0_row)\n",
    "\n",
    "x1 = torch.tensor([[1, 2], [3, 4]])\n",
    "x1_flat = flatten(x1)\n",
    "x1_row = make_row_vec(x1)\n",
    "print('\\nx1:')\n",
    "print(x1)\n",
    "print('x1_flat:')\n",
    "print(x1_flat)\n",
    "print('x1_row:')\n",
    "print(x1_row)"
   ]
  },
  {
   "cell_type": "code",
   "execution_count": 179,
   "metadata": {},
   "outputs": [
    {
     "name": "stdout",
     "output_type": "stream",
     "text": [
      "x before modifying:\n",
      "tensor([[1, 2, 3],\n",
      "        [4, 5, 6]])\n",
      "x_flat before modifying:\n",
      "tensor([1, 2, 3, 4, 5, 6])\n",
      "\n",
      "x after modifying:\n",
      "tensor([[10, 20,  3],\n",
      "        [ 4,  5,  6]])\n",
      "x_flat after modifying:\n",
      "tensor([10, 20,  3,  4,  5,  6])\n"
     ]
    }
   ],
   "source": [
    "x = torch.tensor([[1, 2, 3], [4, 5, 6]])\n",
    "x_flat = x.view(-1)\n",
    "print('x before modifying:')\n",
    "print(x)\n",
    "print('x_flat before modifying:')\n",
    "print(x_flat)\n",
    "\n",
    "x[0, 0] = 10   # x[0, 0] and x_flat[0] point to the same data\n",
    "x_flat[1] = 20 # x_flat[1] and x[0, 1] point to the same data\n",
    "\n",
    "print('\\nx after modifying:')\n",
    "print(x)\n",
    "print('x_flat after modifying:')\n",
    "print(x_flat)"
   ]
  },
  {
   "cell_type": "code",
   "execution_count": 180,
   "metadata": {},
   "outputs": [
    {
     "name": "stdout",
     "output_type": "stream",
     "text": [
      "Original matrix:\n",
      "tensor([[1, 2, 3],\n",
      "        [4, 5, 6]])\n",
      "\n",
      "Transposing with view DOES NOT WORK!\n",
      "tensor([[1, 2],\n",
      "        [3, 4],\n",
      "        [5, 6]])\n",
      "\n",
      "Transposed matrix:\n",
      "tensor([[1, 4],\n",
      "        [2, 5],\n",
      "        [3, 6]])\n",
      "tensor([[1, 4],\n",
      "        [2, 5],\n",
      "        [3, 6]])\n"
     ]
    }
   ],
   "source": [
    "x = torch.tensor([[1, 2, 3], [4, 5, 6]])\n",
    "print('Original matrix:')\n",
    "print(x)\n",
    "print('\\nTransposing with view DOES NOT WORK!')\n",
    "print(x.view(3, 2))\n",
    "print('\\nTransposed matrix:')\n",
    "print(torch.t(x))\n",
    "print(x.t())"
   ]
  },
  {
   "cell_type": "code",
   "execution_count": 187,
   "metadata": {},
   "outputs": [
    {
     "name": "stdout",
     "output_type": "stream",
     "text": [
      "Original tensor:\n",
      "tensor([[[ 1,  2,  3,  4],\n",
      "         [ 5,  6,  7,  8],\n",
      "         [ 9, 10, 11, 12]],\n",
      "\n",
      "        [[13, 14, 15, 16],\n",
      "         [17, 18, 19, 20],\n",
      "         [21, 22, 23, 24]]])\n",
      "shape: torch.Size([2, 3, 4])\n",
      "\n",
      "Swap axes 1 and 2:\n",
      "tensor([[[ 1,  5,  9],\n",
      "         [ 2,  6, 10],\n",
      "         [ 3,  7, 11],\n",
      "         [ 4,  8, 12]],\n",
      "\n",
      "        [[13, 17, 21],\n",
      "         [14, 18, 22],\n",
      "         [15, 19, 23],\n",
      "         [16, 20, 24]]])\n",
      "torch.Size([2, 4, 3])\n",
      "\n",
      "Permute axes\n",
      "tensor([[[ 1, 13],\n",
      "         [ 2, 14],\n",
      "         [ 3, 15],\n",
      "         [ 4, 16]],\n",
      "\n",
      "        [[ 5, 17],\n",
      "         [ 6, 18],\n",
      "         [ 7, 19],\n",
      "         [ 8, 20]],\n",
      "\n",
      "        [[ 9, 21],\n",
      "         [10, 22],\n",
      "         [11, 23],\n",
      "         [12, 24]]])\n",
      "shape: torch.Size([3, 4, 2])\n"
     ]
    }
   ],
   "source": [
    "# Create a tensor of shape (2, 3, 4)\n",
    "x0 = torch.tensor([\n",
    "     [[1,  2,  3,  4],\n",
    "      [5,  6,  7,  8],\n",
    "      [9, 10, 11, 12]],\n",
    "     [[13, 14, 15, 16],\n",
    "      [17, 18, 19, 20],\n",
    "      [21, 22, 23, 24]]])\n",
    "print('Original tensor:')\n",
    "print(x0)\n",
    "print('shape:', x0.shape)\n",
    "\n",
    "# Swap axes 1 and 2; shape is (2, 4, 3)\n",
    "x1 = x0.transpose(1, 2)\n",
    "print('\\nSwap axes 1 and 2:')\n",
    "print(x1)\n",
    "print(x1.shape)\n",
    "\n",
    "# Permute axes; the argument (1, 2, 0) means:\n",
    "# - Make the old dimension 1 appear at dimension 0;\n",
    "# - Make the old dimension 2 appear at dimension 1;\n",
    "# - Make the old dimension 0 appear at dimension 2\n",
    "# This results in a tensor of shape (3, 4, 2)\n",
    "x2 = x0.permute(1, 2, 0)\n",
    "print('\\nPermute axes')\n",
    "print(x2)\n",
    "print('shape:', x2.shape)"
   ]
  },
  {
   "cell_type": "code",
   "execution_count": 220,
   "metadata": {},
   "outputs": [
    {
     "name": "stdout",
     "output_type": "stream",
     "text": [
      "Here is x0:\n",
      "tensor([ 0,  1,  2,  3,  4,  5,  6,  7,  8,  9, 10, 11, 12, 13, 14, 15, 16, 17,\n",
      "        18, 19, 20, 21, 22, 23])\n",
      "\n",
      "Here is x1:\n",
      "tensor([[ 0,  1,  2,  3, 12, 13, 14, 15],\n",
      "        [ 4,  5,  6,  7, 16, 17, 18, 19],\n",
      "        [ 8,  9, 10, 11, 20, 21, 22, 23]])\n",
      "Correct: True\n"
     ]
    }
   ],
   "source": [
    "x0 = torch.arange(24)\n",
    "print('Here is x0:')\n",
    "print(x0)\n",
    "\n",
    "x1 = None\n",
    "##############################################################################\n",
    "# TODO: Use reshape operations to create x1 from x0                          #\n",
    "##############################################################################\n",
    "# Review this line please, objective is to make x0 tensor\n",
    "# in the shape of expected list below.\n",
    "x1= x0.view(2,3,4).transpose(1,2).reshape(8,3).transpose(0,1)\n",
    "# Please suggest any better way to do this tranposition\n",
    "##############################################################################\n",
    "#                             END OF YOUR CODE                               #\n",
    "##############################################################################\n",
    "print('\\nHere is x1:')\n",
    "print(x1)\n",
    "\n",
    "expected = [\n",
    "    [0, 1,  2,  3, 12, 13, 14, 15],\n",
    "    [4, 5,  6,  7, 16, 17, 18, 19],\n",
    "    [8, 9, 10, 11, 20, 21, 22, 23]]\n",
    "print('Correct:', x1.tolist() == expected)"
   ]
  },
  {
   "cell_type": "code",
   "execution_count": 221,
   "metadata": {},
   "outputs": [
    {
     "name": "stdout",
     "output_type": "stream",
     "text": [
      "Original tensor:\n",
      "tensor([[1., 2., 3.],\n",
      "        [4., 5., 6.]])\n",
      "\n",
      "Sum over entire tensor:\n",
      "tensor(21.)\n",
      "tensor(21.)\n",
      "\n",
      "Sum of each row:\n",
      "tensor([5., 7., 9.])\n",
      "tensor([5., 7., 9.])\n",
      "\n",
      "Sum of each column:\n",
      "tensor([ 6., 15.])\n",
      "tensor([ 6., 15.])\n"
     ]
    }
   ],
   "source": [
    "x = torch.tensor([[1, 2, 3], \n",
    "                  [4, 5, 6]], dtype=torch.float32)\n",
    "print('Original tensor:')\n",
    "print(x)\n",
    "\n",
    "print('\\nSum over entire tensor:')\n",
    "print(torch.sum(x))\n",
    "print(x.sum())\n",
    "\n",
    "# We can sum over each row:\n",
    "print('\\nSum of each row:')\n",
    "print(torch.sum(x, dim=0))\n",
    "print(x.sum(dim=0))\n",
    "\n",
    "# Sum over each column:\n",
    "print('\\nSum of each column:')\n",
    "print(torch.sum(x, dim=1))\n",
    "print(x.sum(dim=1))"
   ]
  },
  {
   "cell_type": "code",
   "execution_count": 223,
   "metadata": {},
   "outputs": [
    {
     "name": "stdout",
     "output_type": "stream",
     "text": [
      "Original tensor:\n",
      "tensor([[2., 4., 3., 5.],\n",
      "        [3., 3., 5., 2.]]) torch.Size([2, 4])\n",
      "\n",
      "Overall minimum:  tensor(2.)\n",
      "\n",
      "Minimum along each column:\n",
      "values: tensor([2., 3., 3., 2.])\n",
      "idxs: tensor([0, 1, 0, 1])\n",
      "torch.return_types.min(\n",
      "values=tensor([2., 3., 3., 2.]),\n",
      "indices=tensor([0, 1, 0, 1]))\n",
      "\n",
      "Minimum along each row:\n",
      "values: tensor([2., 2.])\n",
      "idxs: tensor([0, 3])\n"
     ]
    }
   ],
   "source": [
    "x = torch.tensor([[2, 4, 3, 5], [3, 3, 5, 2]], dtype=torch.float32)\n",
    "print('Original tensor:')\n",
    "print(x, x.shape)\n",
    "\n",
    "# Finding the overall minimum only returns a single value\n",
    "print('\\nOverall minimum: ', x.min())\n",
    "\n",
    "# Compute the minimum along each column; we get both the value and location:\n",
    "# The minimum of the first column is 2, and it appears at index 0;\n",
    "# the minimum of the second column is 3 and it appears at index 1; etc\n",
    "col_min_vals, col_min_idxs = x.min(dim=0)\n",
    "print('\\nMinimum along each column:')\n",
    "print('values:', col_min_vals)\n",
    "print('idxs:', col_min_idxs)\n",
    "print( x.min(dim=0))\n",
    "\n",
    "# Compute the minimum along each row; we get both the value and the minimum\n",
    "row_min_vals, row_min_idxs = x.min(dim=1)\n",
    "print('\\nMinimum along each row:')\n",
    "print('values:', row_min_vals)\n",
    "print('idxs:', row_min_idxs)"
   ]
  },
  {
   "cell_type": "code",
   "execution_count": 226,
   "metadata": {},
   "outputs": [
    {
     "name": "stdout",
     "output_type": "stream",
     "text": [
      "tensor([[[[[-0.9189,  1.3680,  0.1334],\n",
      "           [ 0.6198, -0.6259, -0.3285]],\n",
      "\n",
      "          [[-0.6091, -0.4023, -0.3757],\n",
      "           [ 0.5059,  0.4704,  2.3429]],\n",
      "\n",
      "          [[-0.8738, -0.1222, -0.2378],\n",
      "           [ 0.7346,  0.0169,  2.0373]]],\n",
      "\n",
      "\n",
      "         [[[-0.9998,  0.3084,  0.3174],\n",
      "           [-0.7441, -1.2237, -1.5471]],\n",
      "\n",
      "          [[-2.1252,  1.7011,  1.4680],\n",
      "           [-0.2344,  0.0688,  0.3157]],\n",
      "\n",
      "          [[-0.1090, -1.0662, -0.4525],\n",
      "           [-0.3578, -0.2587, -0.3359]]],\n",
      "\n",
      "\n",
      "         [[[-0.8288,  0.4136, -0.1240],\n",
      "           [ 0.7909,  0.2598, -1.6516]],\n",
      "\n",
      "          [[ 1.3327,  1.9851,  0.4760],\n",
      "           [-1.2755,  1.1215,  0.5424]],\n",
      "\n",
      "          [[-0.3492, -1.4623,  0.8735],\n",
      "           [ 0.0878, -0.5573, -0.5994]]]],\n",
      "\n",
      "\n",
      "\n",
      "        [[[[ 0.0394,  1.5791,  0.0305],\n",
      "           [-0.5472, -0.0732,  1.5998]],\n",
      "\n",
      "          [[-0.9288, -0.7242,  0.8155],\n",
      "           [-0.9289, -0.8459, -0.0578]],\n",
      "\n",
      "          [[ 1.5136,  2.2481,  1.7189],\n",
      "           [ 1.1552,  0.6821,  0.6013]]],\n",
      "\n",
      "\n",
      "         [[[-0.3996, -0.4466,  0.5101],\n",
      "           [ 0.2881, -1.1383,  0.3964]],\n",
      "\n",
      "          [[ 0.0665, -1.5688,  0.4657],\n",
      "           [ 0.4909, -0.1439, -0.0471]],\n",
      "\n",
      "          [[ 0.3974,  0.0513, -0.6185],\n",
      "           [-0.7664,  0.0635,  0.7417]]],\n",
      "\n",
      "\n",
      "         [[[-0.1291, -0.7133,  0.1344],\n",
      "           [-0.1385, -1.6039,  0.4894]],\n",
      "\n",
      "          [[-0.6008, -1.4527, -0.3781],\n",
      "           [ 0.6646, -0.3946, -0.2852]],\n",
      "\n",
      "          [[-0.3604, -0.5360,  0.8690],\n",
      "           [ 0.0156,  1.6345,  0.9566]]]]])\n",
      "tensor([[[[-0.9158,  0.6967,  0.1089],\n",
      "          [ 0.2222, -0.5300, -1.1757]],\n",
      "\n",
      "         [[-0.4672,  1.0946,  0.5228],\n",
      "          [-0.3347,  0.5536,  1.0670]],\n",
      "\n",
      "         [[-0.4440, -0.8835,  0.0611],\n",
      "          [ 0.1549, -0.2663,  0.3673]]],\n",
      "\n",
      "\n",
      "        [[[-0.1631,  0.1397,  0.2250],\n",
      "          [-0.1325, -0.9385,  0.8285]],\n",
      "\n",
      "         [[-0.4877, -1.2486,  0.3010],\n",
      "          [ 0.0755, -0.4615, -0.1300]],\n",
      "\n",
      "         [[ 0.5169,  0.5878,  0.6565],\n",
      "          [ 0.1348,  0.7934,  0.7665]]]])\n",
      "tensor([[[-0.6936,  0.1667, -1.0668],\n",
      "         [-0.8019,  1.6482,  1.5898],\n",
      "         [-0.2891, -1.1499,  0.4284]],\n",
      "\n",
      "        [[-0.2956, -0.7987,  1.0536],\n",
      "         [-0.4122, -1.7100,  0.1710],\n",
      "         [ 0.6516,  1.3812,  1.4230]]])\n",
      "tensor([[[-0.5949,  0.2217,  0.3171]],\n",
      "\n",
      "        [[-0.0187, -0.3759,  0.8825]]])\n"
     ]
    }
   ],
   "source": [
    "# Create a tensor of shape (128, 10, 3, 64, 64)\n",
    "x = torch.randn(2, 3, 3, 2, 3)\n",
    "print(x)\n",
    "\n",
    "# Take the mean over dimension 1; shape is now (128, 3, 64, 64)\n",
    "x = x.mean(dim=1)\n",
    "print(x)\n",
    "\n",
    "# Take the sum over dimension 2; shape is now (128, 3, 64)\n",
    "x = x.sum(dim=2)\n",
    "print(x)\n",
    "\n",
    "# Take the mean over dimension 1, but keep the dimension from being eliminated\n",
    "# by passing keepdim=True; shape is now (128, 1, 64)\n",
    "x = x.mean(dim=1, keepdim=True)\n",
    "print(x)"
   ]
  },
  {
   "cell_type": "code",
   "execution_count": 233,
   "metadata": {},
   "outputs": [
    {
     "name": "stdout",
     "output_type": "stream",
     "text": [
      "Here is x0:\n",
      "tensor([[10, 20, 30],\n",
      "        [ 2,  5,  1]])\n",
      "Here is y0:\n",
      "tensor([[ 0, 20, 30],\n",
      "        [ 2,  5,  0]])\n",
      "\n",
      "Here is x1:\n",
      "tensor([[ 2,  5, 10, -1],\n",
      "        [ 1,  3,  2,  4],\n",
      "        [ 5,  6,  2, 10]])\n",
      "Here is y1:\n",
      "tensor([[ 2,  5, 10,  0],\n",
      "        [ 0,  3,  2,  4],\n",
      "        [ 5,  6,  0, 10]])\n",
      "\n",
      "Simple tests pass!\n"
     ]
    }
   ],
   "source": [
    "def zero_row_min(x):\n",
    "  \"\"\"\n",
    "  Return a copy of x, where the minimum value along each row has been set to 0.\n",
    "\n",
    "  For example, if x is:\n",
    "  x = torch.tensor([[\n",
    "        [10, 20, 30],\n",
    "        [ 2,  5,  1]\n",
    "      ]])\n",
    "  \n",
    "  Then y = zero_row_min(x) should be:\n",
    "  torch.tensor([\n",
    "    [0, 20, 30],\n",
    "    [2,  5,  0]\n",
    "  ])\n",
    "\n",
    "  Inputs:\n",
    "  - x: Tensor of rank 2 with shape (N, M)\n",
    "\n",
    "  Returns:\n",
    "  - y: Tensor of rank 2 that is a copy of x, except the minimum value along each\n",
    "       row is replaced with 0.\n",
    "  \"\"\"\n",
    "  y = x.clone()\n",
    "  ##############################################################################\n",
    "  # TODO: Complete the implementation of this function.                        #\n",
    "  ##############################################################################\n",
    "  # Replace \"pass\" statement with your code\n",
    "  row_min_vals, row_min_idxs = x.min(dim=1)\n",
    "  row_min_idxs = row_min_idxs.tolist()\n",
    "  for i in range(len(row_min_idxs)):\n",
    "    y[i][row_min_idxs[i]]=0\n",
    "  ##############################################################################\n",
    "  #                             END OF YOUR CODE                               #\n",
    "  ##############################################################################\n",
    "  return y\n",
    "\n",
    "x0 = torch.tensor([[10, 20, 30], [2, 5, 1]])\n",
    "print('Here is x0:')\n",
    "print(x0)\n",
    "y0 = zero_row_min(x0)\n",
    "print('Here is y0:')\n",
    "print(y0)\n",
    "assert y0.tolist() == [[0, 20, 30], [2, 5, 0]]\n",
    "\n",
    "x1 = torch.tensor([[2, 5, 10, -1], [1, 3, 2, 4], [5, 6, 2, 10]])\n",
    "print('\\nHere is x1:')\n",
    "print(x1)\n",
    "y1 = zero_row_min(x1)\n",
    "print('Here is y1:')\n",
    "print(y1)\n",
    "assert y1.tolist() == [[2, 5, 10, 0], [0, 3, 2, 4], [5, 6, 0, 10]]\n",
    "\n",
    "print('\\nSimple tests pass!')"
   ]
  },
  {
   "cell_type": "code",
   "execution_count": 237,
   "metadata": {},
   "outputs": [
    {
     "name": "stdout",
     "output_type": "stream",
     "text": [
      "Dot products:\n",
      "tensor(219.)\n",
      "tensor(219.)\n",
      "tensor([[1., 2.],\n",
      "        [3., 4.]])\n",
      "tensor([[5., 6.],\n",
      "        [7., 8.]])\n",
      "1D tensors expected, got 2D, 2D tensors at ..\\aten\\src\\TH/generic/THTensorEvenMoreMath.cpp:83\n",
      "\n",
      "Matrix-matrix product:\n",
      "tensor([[19., 22.],\n",
      "        [43., 50.]])\n",
      "tensor([[19., 22.],\n",
      "        [43., 50.]])\n"
     ]
    }
   ],
   "source": [
    "v = torch.tensor([9,10], dtype=torch.float32)\n",
    "w = torch.tensor([11, 12], dtype=torch.float32)\n",
    "\n",
    "# Inner product of vectors\n",
    "print('Dot products:')\n",
    "print(torch.dot(v, w))\n",
    "print(v.dot(w))\n",
    "\n",
    "# dot only works for vectors -- it will give an error for tensors of rank > 1\n",
    "x = torch.tensor([[1,2],[3,4]], dtype=torch.float32)\n",
    "y = torch.tensor([[5,6],[7,8]], dtype=torch.float32)\n",
    "print(x)\n",
    "print(y)\n",
    "try:\n",
    "  print(x.dot(y))\n",
    "except RuntimeError as e:\n",
    "  print(e)\n",
    "  \n",
    "# Instead we use mm for matrix-matrix products:\n",
    "print('\\nMatrix-matrix product:')\n",
    "print(torch.mm(x, y))\n",
    "print(x.mm(y))"
   ]
  },
  {
   "cell_type": "code",
   "execution_count": 241,
   "metadata": {},
   "outputs": [
    {
     "name": "stdout",
     "output_type": "stream",
     "text": [
      "Here is the result of batched matrix multiply with a loop:\n",
      "tensor([[[0.4975, 0.6358, 1.2225, 0.8127],\n",
      "         [1.1445, 0.8000, 2.0119, 0.9595]],\n",
      "\n",
      "        [[1.2567, 0.9928, 1.9444, 0.7454],\n",
      "         [1.4502, 0.5602, 1.7599, 1.1055]],\n",
      "\n",
      "        [[0.9924, 1.0517, 1.3087, 0.9332],\n",
      "         [0.9543, 1.3425, 1.2913, 0.9118]]])\n",
      "\n",
      "Here is the result of batched matrix multiply with bmm:\n",
      "tensor([[[0.4975, 0.6358, 1.2225, 0.8127],\n",
      "         [1.1445, 0.8000, 2.0119, 0.9595]],\n",
      "\n",
      "        [[1.2567, 0.9928, 1.9444, 0.7454],\n",
      "         [1.4502, 0.5602, 1.7599, 1.1055]],\n",
      "\n",
      "        [[0.9924, 1.0517, 1.3087, 0.9332],\n",
      "         [0.9543, 1.3425, 1.2913, 0.9118]]])\n",
      "\n",
      "Difference: 0.0\n",
      "Difference within threshold: True\n"
     ]
    }
   ],
   "source": [
    "B, N, M, P = 3, 2, 5, 4\n",
    "x = torch.rand(B, N, M)  # Random tensor of shape (B, N, M)\n",
    "y = torch.rand(B, M, P)  # Random tensor of shape (B, M, P)\n",
    "\n",
    "# We can use a for loop to (inefficiently) compute a batch of matrix multiply\n",
    "# operations\n",
    "z1 = torch.empty(B, N, P)  # Empty tensor of shape (B, N, P)\n",
    "for i in range(B):\n",
    "  z1[i] = x[i].mm(y[i])\n",
    "print('Here is the result of batched matrix multiply with a loop:')\n",
    "print(z1)\n",
    "\n",
    "z2 = None\n",
    "##############################################################################\n",
    "# TODO: Use bmm to compute a batched matrix multiply between x and y; store  #\n",
    "# the result in z2.                                                          #\n",
    "##############################################################################\n",
    "# Replace \"pass\" statement with your code\n",
    "z2=torch.bmm(x,y)\n",
    "##############################################################################\n",
    "#                             END OF YOUR CODE                               #\n",
    "##############################################################################\n",
    "print('\\nHere is the result of batched matrix multiply with bmm:')\n",
    "print(z2)\n",
    "\n",
    "# The two may not return exactly the same result; different linear algebra\n",
    "# routines often return slightly different results due to the fact that\n",
    "# floating-point math is non-exact and non-associative.\n",
    "diff = (z1 - z2).abs().max().item()\n",
    "print('\\nDifference:', diff)\n",
    "print('Difference within threshold:', diff < 1e-6)"
   ]
  },
  {
   "cell_type": "code",
   "execution_count": 257,
   "metadata": {},
   "outputs": [
    {
     "name": "stdout",
     "output_type": "stream",
     "text": [
      "tensor([[  0.,  30., 600.],\n",
      "        [  1.,  10., 200.],\n",
      "        [ -1.,  20., 400.]])\n",
      "meanT  tensor([  0.,  20., 400.])\n",
      "stdT  tensor([  1.,  10., 200.])\n",
      "y  tensor([[ 0.,  1.,  1.],\n",
      "        [ 1., -1., -1.],\n",
      "        [-1.,  0.,  0.]])\n",
      "expected\n",
      " tensor([[ 0.,  1.,  1.],\n",
      "        [ 1., -1., -1.],\n",
      "        [-1.,  0.,  0.]])\n",
      "Here is x0:\n",
      "tensor([[  0.,  30., 600.],\n",
      "        [  1.,  10., 200.],\n",
      "        [ -1.,  20., 400.]])\n",
      "Here is y0:\n",
      "tensor([[ 0.,  1.,  1.],\n",
      "        [ 1., -1., -1.],\n",
      "        [-1.,  0.,  0.]])\n"
     ]
    }
   ],
   "source": [
    "def normalize_columns(x):\n",
    "  \"\"\"\n",
    "  Normalize the columns of a matrix by subtracting the mean and dividing by the\n",
    "  standard deviation.\n",
    " \n",
    "  Inputs:\n",
    "  - x: Tensor of shape (N, M)\n",
    "  \n",
    "  Returns:\n",
    "  - y: Tensor of shape (N, M) which is a copy of x with normalized columns.\n",
    "  \"\"\"\n",
    "  y = x.clone()\n",
    "  ##############################################################################\n",
    "  # TODO: Complete the implementation of this function. Do not modify x.       #\n",
    "  # Your implementation should not use any loops; instead you should use       #\n",
    "  # reduction and broadcasting operations.                                     #\n",
    "  ##############################################################################\n",
    "  # Replace \"pass\" statement with your code\n",
    "  print(x)\n",
    "  meanT = torch.mean(y,dim=0)\n",
    "  stdT  = torch.std(y,dim=0)\n",
    "  print('meanT ',meanT)\n",
    "  print('stdT ',stdT)\n",
    "  y = (y - meanT) / stdT\n",
    "  print('y ',y)\n",
    "  print('expected\\n',torch.tensor([[0., 1., 1.], [1., -1., -1.], [-1., 0., 0.]]))\n",
    "  ##############################################################################\n",
    "  #                             END OF YOUR CODE                               #\n",
    "  ##############################################################################\n",
    "  return y\n",
    "x0 = torch.tensor([[0., 30., 600.], [1., 10., 200.], [-1., 20., 400.]])\n",
    "y0 = normalize_columns(x0)\n",
    "print('Here is x0:')\n",
    "print(x0)\n",
    "print('Here is y0:')\n",
    "print(y0)\n",
    "assert y0.tolist() == [[0., 1., 1.], [1., -1., -1.], [-1., 0., 0.]]\n",
    "assert x0.tolist() == [[0., 30., 600.], [1., 10., 200.], [-1., 20., 400.]]"
   ]
  },
  {
   "cell_type": "code",
   "execution_count": 247,
   "metadata": {},
   "outputs": [
    {
     "name": "stdout",
     "output_type": "stream",
     "text": [
      "tensor(10.)\n",
      "tensor(20.)\n"
     ]
    }
   ],
   "source": [
    "p=torch.tensor([[30.,10.,20.]])\n",
    "print(torch.std(p))\n",
    "print(torch.mean(p))"
   ]
  },
  {
   "cell_type": "code",
   "execution_count": 258,
   "metadata": {},
   "outputs": [
    {
     "name": "stdout",
     "output_type": "stream",
     "text": [
      "PyTorch can use GPUs!\n"
     ]
    }
   ],
   "source": [
    "if torch.cuda.is_available:\n",
    "  print('PyTorch can use GPUs!')\n",
    "else:\n",
    "  print('PyTorch cannot use GPUs.')"
   ]
  },
  {
   "cell_type": "code",
   "execution_count": 261,
   "metadata": {},
   "outputs": [
    {
     "name": "stdout",
     "output_type": "stream",
     "text": [
      "Max difference between c_gpu and c_cpu: 0.0\n",
      "CPU time: 125.00 ms\n",
      "GPU time: 5.00 ms\n",
      "GPU speedup: 25.00 x\n"
     ]
    }
   ],
   "source": [
    "import time\n",
    "\n",
    "a_cpu = torch.randn(10000, 10000, dtype=torch.float32)\n",
    "b_cpu = torch.randn(10000, 10000, dtype=torch.float32)\n",
    "\n",
    "a_gpu = a_cpu.cuda()\n",
    "b_gpu = b_cpu.cuda()\n",
    "torch.cuda.synchronize()\n",
    "\n",
    "t0 = time.time()\n",
    "c_cpu = a_cpu + b_cpu\n",
    "t1 = time.time()\n",
    "c_gpu = a_gpu + b_gpu\n",
    "torch.cuda.synchronize()\n",
    "t2 = time.time()\n",
    "\n",
    "# Check that they computed the same thing\n",
    "diff = (c_gpu.cpu() - c_cpu).abs().max().item()\n",
    "print('Max difference between c_gpu and c_cpu:', diff)\n",
    "\n",
    "cpu_time = 1000.0 * (t1 - t0)\n",
    "gpu_time = 1000.0 * (t2 - t1)\n",
    "print('CPU time: %.2f ms' % cpu_time)\n",
    "print('GPU time: %.2f ms' % gpu_time)\n",
    "print('GPU speedup: %.2f x' % (cpu_time / gpu_time))"
   ]
  },
  {
   "cell_type": "code",
   "execution_count": 264,
   "metadata": {},
   "outputs": [
    {
     "name": "stdout",
     "output_type": "stream",
     "text": [
      "y1 on CPU: True\n",
      "Max difference between y0 and y1: 0.00189208984375\n",
      "Difference within tolerance: True\n",
      "CPU time: 162.99 ms\n",
      "GPU time: 816.84 ms\n",
      "GPU speedup: 0.20 x\n"
     ]
    }
   ],
   "source": [
    "import time\n",
    "\n",
    "x = torch.rand(512, 4096)\n",
    "w = torch.rand(4096, 4096)\n",
    "\n",
    "t0 = time.time()\n",
    "y0 = x.mm(w)\n",
    "t1 = time.time()\n",
    "\n",
    "y1 = None\n",
    "##############################################################################\n",
    "# TODO: Write a bit of code that performs matrix multiplication of x and w   #\n",
    "# on the GPU, and then moves the result back to the CPU. Store the result    #\n",
    "# in y1.\n",
    "##############################################################################\n",
    "# Replace \"pass\" statement with your code\n",
    "x = x.cuda()\n",
    "w = w.cuda()\n",
    "y = torch.matmul(x,w)\n",
    "y1 = y.cpu()\n",
    "##############################################################################\n",
    "#                             END OF YOUR CODE                               #\n",
    "##############################################################################\n",
    "torch.cuda.synchronize()\n",
    "t2 = time.time()\n",
    "\n",
    "print('y1 on CPU:', y1.device == torch.device('cpu'))\n",
    "diff = (y0 - y1).abs().max().item()\n",
    "print('Max difference between y0 and y1:', diff)\n",
    "print('Difference within tolerance:', diff < 5e-2)\n",
    "\n",
    "cpu_time = 1000.0 * (t1 - t0)\n",
    "gpu_time = 1000.0 * (t2 - t1)\n",
    "print('CPU time: %.2f ms' % cpu_time)\n",
    "print('GPU time: %.2f ms' % gpu_time)\n",
    "print('GPU speedup: %.2f x' % (cpu_time / gpu_time))"
   ]
  },
  {
   "cell_type": "code",
   "execution_count": null,
   "metadata": {},
   "outputs": [],
   "source": []
  }
 ],
 "metadata": {
  "kernelspec": {
   "display_name": "Python 3",
   "language": "python",
   "name": "python3"
  },
  "language_info": {
   "codemirror_mode": {
    "name": "ipython",
    "version": 3
   },
   "file_extension": ".py",
   "mimetype": "text/x-python",
   "name": "python",
   "nbconvert_exporter": "python",
   "pygments_lexer": "ipython3",
   "version": "3.7.7"
  }
 },
 "nbformat": 4,
 "nbformat_minor": 4
}
